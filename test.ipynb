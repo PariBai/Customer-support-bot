{
 "cells": [
  {
   "cell_type": "code",
   "execution_count": 1,
   "id": "a0f034a0",
   "metadata": {},
   "outputs": [],
   "source": [
    "from src.graph import build_graph"
   ]
  },
  {
   "cell_type": "code",
   "execution_count": null,
   "id": "62dbaf3f",
   "metadata": {},
   "outputs": [],
   "source": [
    "LANGSMITH_TRACING=\"true\"\n",
    "LANGSMITH_ENDPOINT=\"https://api.smith.langchain.com\"\n",
    "LANGSMITH_API_KEY=\"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\"\n",
    "LANGSMITH_PROJECT=\"default\"\n",
    "OPENAI_API_KEY=\"<your-openai-api-key>\""
   ]
  },
  {
   "cell_type": "code",
   "execution_count": 2,
   "id": "e4aaeb87",
   "metadata": {},
   "outputs": [],
   "source": [
    "app = build_graph()"
   ]
  },
  {
   "cell_type": "code",
   "execution_count": 4,
   "id": "b5fe59a7",
   "metadata": {},
   "outputs": [
    {
     "name": "stdout",
     "output_type": "stream",
     "text": [
      "Dear Customer,\n",
      "\n",
      "Thank you for reaching out. I understand you're having trouble upgrading your plan.\n",
      "\n",
      "To upgrade your plan, please follow these steps:\n",
      "1. Go to Account Settings > Subscription.\n",
      "2. Click the \"Change Plan\" button.\n",
      "3. Select your desired plan tier.\n",
      "4. Review the pricing and feature differences.\n",
      "5. Confirm the change. Upgrades take effect immediately.\n",
      "\n",
      "You will receive an email confirmation once the upgrade is complete.\n",
      "\n",
      "If you continue to experience issues after following these steps, please let us know, and we'll be happy to assist you further.\n",
      "\n",
      "Sincerely,\n",
      "Customer Support\n"
     ]
    }
   ],
   "source": [
    "\n",
    "response = app.invoke({\"subject\": \"plan upgrade\", \"description\":\"can not upgrade my plan\"})\n",
    "print(response[\"final_response\"])\n"
   ]
  },
  {
   "cell_type": "code",
   "execution_count": null,
   "id": "7cb74a1a",
   "metadata": {},
   "outputs": [],
   "source": [
    "# test_llm.py\n",
    "from src.utils import get_llm\n",
    "\n",
    "llm = get_llm()\n",
    "resp = llm.invoke(\"Hello, are you working?\")\n",
    "print(resp)\n"
   ]
  }
 ],
 "metadata": {
  "kernelspec": {
   "display_name": "Python 3",
   "language": "python",
   "name": "python3"
  },
  "language_info": {
   "codemirror_mode": {
    "name": "ipython",
    "version": 3
   },
   "file_extension": ".py",
   "mimetype": "text/x-python",
   "name": "python",
   "nbconvert_exporter": "python",
   "pygments_lexer": "ipython3",
   "version": "3.12.5"
  }
 },
 "nbformat": 4,
 "nbformat_minor": 5
}
